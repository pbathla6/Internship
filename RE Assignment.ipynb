{
 "cells": [
  {
   "cell_type": "markdown",
   "id": "c89d12ce",
   "metadata": {},
   "source": [
    "# Assignment: Regular Expression"
   ]
  },
  {
   "cell_type": "code",
   "execution_count": 1,
   "id": "1e42d369",
   "metadata": {},
   "outputs": [],
   "source": [
    "import regex as re"
   ]
  },
  {
   "cell_type": "markdown",
   "id": "45d50c6e",
   "metadata": {},
   "source": [
    "Question 1- Write a Python program to check that a string contains only a certain set of characters (in\n",
    "this case a-z, A-Z and 0-9)."
   ]
  },
  {
   "cell_type": "code",
   "execution_count": 2,
   "id": "3e465214",
   "metadata": {},
   "outputs": [
    {
     "name": "stdout",
     "output_type": "stream",
     "text": [
      "True\n"
     ]
    }
   ],
   "source": [
    "string1='My Date of Birth is 18 JAN 1998'\n",
    "pattern=\"\\w\"\n",
    "x=re.match(pattern,string1)\n",
    "print(bool(x))"
   ]
  },
  {
   "cell_type": "markdown",
   "id": "507549bc",
   "metadata": {},
   "source": [
    "Question 2- Create a function in python that matches a string that has an a followed by zero or more b's"
   ]
  },
  {
   "cell_type": "code",
   "execution_count": 3,
   "id": "63f8cf5e",
   "metadata": {},
   "outputs": [
    {
     "name": "stdout",
     "output_type": "stream",
     "text": [
      "Match Found\n",
      "Match Found\n",
      "Match Found\n",
      "Match not found\n"
     ]
    }
   ],
   "source": [
    "def function1(new1):\n",
    "    pattern1=\"^ab*$\"\n",
    "    if (re.search(pattern1,new1)):\n",
    "        return(\"Match Found\")\n",
    "    else:\n",
    "        return(\"Match not found\")\n",
    "    \n",
    "print(function1(\"a\"))\n",
    "print(function1(\"ab\"))\n",
    "print(function1(\"abb\"))\n",
    "print(function1(\"abc\"))"
   ]
  },
  {
   "cell_type": "markdown",
   "id": "9057263b",
   "metadata": {},
   "source": [
    "Question 3- Create a function in python that matches a string that has an a followed by one or more b&#39;s"
   ]
  },
  {
   "cell_type": "code",
   "execution_count": 4,
   "id": "5056975f",
   "metadata": {},
   "outputs": [
    {
     "name": "stdout",
     "output_type": "stream",
     "text": [
      "Match not found\n",
      "Match Found\n",
      "Match Found\n",
      "Match not found\n"
     ]
    }
   ],
   "source": [
    "def function2(new2):\n",
    "    pattern2=\"^ab+$\"\n",
    "    if (re.search(pattern2,new2)):\n",
    "        return(\"Match Found\")\n",
    "    else:\n",
    "        return(\"Match not found\")\n",
    "    \n",
    "print(function2(\"a\"))\n",
    "print(function2(\"ab\"))\n",
    "print(function2(\"abb\"))\n",
    "print(function2(\"abc\"))"
   ]
  },
  {
   "cell_type": "markdown",
   "id": "4edff39a",
   "metadata": {},
   "source": [
    "Question 4- Create a function in Python and use RegEx that matches a string that has an a followed by\n",
    "zero or one &#39;b&#39;."
   ]
  },
  {
   "cell_type": "code",
   "execution_count": 5,
   "id": "6163e229",
   "metadata": {},
   "outputs": [
    {
     "name": "stdout",
     "output_type": "stream",
     "text": [
      "Match Found\n",
      "Match Found\n",
      "Match not found\n",
      "Match not found\n"
     ]
    }
   ],
   "source": [
    "def function3(new3):\n",
    "    pattern3=\"^ab?$\"\n",
    "    if (re.search(pattern3,new3)):\n",
    "        return(\"Match Found\")\n",
    "    else:\n",
    "        return(\"Match not found\")\n",
    "    \n",
    "print(function3(\"a\"))\n",
    "print(function3(\"ab\"))\n",
    "print(function3(\"abb\"))\n",
    "print(function3(\"abc\"))"
   ]
  },
  {
   "cell_type": "markdown",
   "id": "408847d9",
   "metadata": {},
   "source": [
    "Question 5- Write a Python program that matches a string that has an a followed by three &#39;b&#39;."
   ]
  },
  {
   "cell_type": "code",
   "execution_count": 6,
   "id": "e86406ca",
   "metadata": {},
   "outputs": [
    {
     "name": "stdout",
     "output_type": "stream",
     "text": [
      "Enter the string abb\n",
      "Match not found\n"
     ]
    }
   ],
   "source": [
    "new4=input(\"Enter the string \")\n",
    "pattern4=\"^ab{3}$\"\n",
    "if (re.search(pattern4,new4)):\n",
    "    print(\"Match Found\")\n",
    "else:\n",
    "    print(\"Match not found\")"
   ]
  },
  {
   "cell_type": "markdown",
   "id": "c51bd56d",
   "metadata": {},
   "source": [
    "Question 6- Write a regular expression in Python to split a string into uppercase letters."
   ]
  },
  {
   "cell_type": "code",
   "execution_count": 7,
   "id": "4ec150a6",
   "metadata": {},
   "outputs": [
    {
     "name": "stdout",
     "output_type": "stream",
     "text": [
      "['I', 'Live', 'In', 'Pune']\n"
     ]
    }
   ],
   "source": [
    "splitstring='ILiveInPune'\n",
    "z=re.findall(\"[A-Z][^A-Z]*\",splitstring)\n",
    "print(z)\n"
   ]
  },
  {
   "cell_type": "markdown",
   "id": "5dc1b858",
   "metadata": {},
   "source": [
    "Question 7- Write a Python program that matches a string that has an a followed by two to three &#39;b&#39;."
   ]
  },
  {
   "cell_type": "code",
   "execution_count": 8,
   "id": "13fa3de2",
   "metadata": {},
   "outputs": [
    {
     "name": "stdout",
     "output_type": "stream",
     "text": [
      "Enter the string abbb\n",
      "Match Found\n"
     ]
    }
   ],
   "source": [
    "new5=input(\"Enter the string \")\n",
    "pattern5=\"^ab{2,3}$\"\n",
    "if (re.search(pattern5,new5)):\n",
    "    print(\"Match Found\")\n",
    "else:\n",
    "    print(\"Match not found\")"
   ]
  },
  {
   "cell_type": "markdown",
   "id": "2e572b0a",
   "metadata": {},
   "source": [
    "Question 8- Write a Python program to find sequences of lowercase letters joined with a underscore."
   ]
  },
  {
   "cell_type": "code",
   "execution_count": 9,
   "id": "78d472d6",
   "metadata": {},
   "outputs": [
    {
     "name": "stdout",
     "output_type": "stream",
     "text": [
      "Enter the string aaskj_sjhdj\n",
      "Sequence Found\n"
     ]
    }
   ],
   "source": [
    "new6=input(\"Enter the string \")\n",
    "pattern6=\"^[a-z]+_[a-z]+$\"\n",
    "if (re.search(pattern6,new6)):\n",
    "    print(\"Sequence Found\")\n",
    "else:\n",
    "    print(\"Sequence not found\")"
   ]
  },
  {
   "cell_type": "markdown",
   "id": "2928ee59",
   "metadata": {},
   "source": [
    "Question 9- Write a Python program that matches a string that has an &#39;a&#39; followed by anything, ending in\n",
    "&#39;b&#39;."
   ]
  },
  {
   "cell_type": "code",
   "execution_count": 10,
   "id": "397e346f",
   "metadata": {},
   "outputs": [
    {
     "name": "stdout",
     "output_type": "stream",
     "text": [
      "Enter the string akljldnb\n",
      "Match Found\n"
     ]
    }
   ],
   "source": [
    "new7=input(\"Enter the string \")\n",
    "pattern7=\"^a.*b$\"\n",
    "if (re.search(pattern7,new7)):\n",
    "    print(\"Match Found\")\n",
    "else:\n",
    "    print(\"Match not found\")"
   ]
  },
  {
   "cell_type": "markdown",
   "id": "c13f12f9",
   "metadata": {},
   "source": [
    "Question 10- Write a Python program that matches a word at the beginning of a string."
   ]
  },
  {
   "cell_type": "code",
   "execution_count": 11,
   "id": "9a75f4c3",
   "metadata": {},
   "outputs": [
    {
     "name": "stdout",
     "output_type": "stream",
     "text": [
      "Enter the string aHLIU\n",
      "Match Found\n"
     ]
    }
   ],
   "source": [
    "new8=input(\"Enter the string \")\n",
    "pattern8=\"^[a-zA-Z]\"\n",
    "if (re.search(pattern8,new8)):\n",
    "    print(\"Match Found\")\n",
    "else:\n",
    "    print(\"Match not found\")"
   ]
  },
  {
   "cell_type": "markdown",
   "id": "15154d9a",
   "metadata": {},
   "source": [
    "Question 11- Write a Python program to match a string that contains only upper and lowercase letters, numbers, and underscores."
   ]
  },
  {
   "cell_type": "code",
   "execution_count": 12,
   "id": "1366a328",
   "metadata": {
    "scrolled": true
   },
   "outputs": [
    {
     "name": "stdout",
     "output_type": "stream",
     "text": [
      "Enter the string AUIDHLAaiosj_shd\n",
      "Match Found\n"
     ]
    }
   ],
   "source": [
    "new9=input(\"Enter the string \")\n",
    "pattern9=\"^[a-zA-Z0-9_]*$\"\n",
    "if (re.search(pattern9,new9)):\n",
    "    print(\"Match Found\")\n",
    "else:\n",
    "    print(\"Match not found\")"
   ]
  },
  {
   "cell_type": "markdown",
   "id": "73776187",
   "metadata": {},
   "source": [
    "Question 12- Write a Python program where a string will start with a specific number. "
   ]
  },
  {
   "cell_type": "code",
   "execution_count": 13,
   "id": "3536e170",
   "metadata": {},
   "outputs": [
    {
     "name": "stdout",
     "output_type": "stream",
     "text": [
      "Enter the string 987lwjed\n",
      "Match Found\n"
     ]
    }
   ],
   "source": [
    "new10=input(\"Enter the string \")\n",
    "pattern10=\"^[0-9]+\"\n",
    "if (re.search(pattern10,new10)):\n",
    "    print(\"Match Found\")\n",
    "else:\n",
    "    print(\"Match not found\")"
   ]
  },
  {
   "cell_type": "markdown",
   "id": "ce272efe",
   "metadata": {},
   "source": [
    "Question 13- Write a Python program to remove leading zeros from an IP address"
   ]
  },
  {
   "cell_type": "code",
   "execution_count": 14,
   "id": "fde2f57f",
   "metadata": {
    "scrolled": true
   },
   "outputs": [
    {
     "name": "stdout",
     "output_type": "stream",
     "text": [
      "Enter the IP Address 100.001.001.010\n",
      "100.1.1.10\n"
     ]
    }
   ],
   "source": [
    "new11=input(\"Enter the IP Address \")\n",
    "pattern11=\"\\.[0]*\"\n",
    "var=re.sub(pattern11,\".\",new11)\n",
    "print(var)"
   ]
  },
  {
   "cell_type": "markdown",
   "id": "5bd6876d",
   "metadata": {},
   "source": [
    "Question 14- Write a regular expression in python to match a date string in the form of Month name followed by day number and year stored in a text file."
   ]
  },
  {
   "cell_type": "code",
   "execution_count": 15,
   "id": "1030cdcc",
   "metadata": {},
   "outputs": [
    {
     "name": "stdout",
     "output_type": "stream",
     "text": [
      "None\n"
     ]
    }
   ],
   "source": [
    "new12=\"My Date of Birth is Jan 18 1998\"\n",
    "pattern12=\"[^[A-Za-z}+ /d{2} /d{4}$]\"\n",
    "var1=re.match(pattern12,new12)\n",
    "print(var1)"
   ]
  },
  {
   "cell_type": "markdown",
   "id": "19bbdd0d",
   "metadata": {},
   "source": [
    "Question 15- Write a Python program to search some literals strings in a string. \n"
   ]
  },
  {
   "cell_type": "code",
   "execution_count": 16,
   "id": "41bc3208",
   "metadata": {},
   "outputs": [
    {
     "name": "stdout",
     "output_type": "stream",
     "text": [
      "['fox', 'horse', 'dog']\n"
     ]
    }
   ],
   "source": [
    "new13=\"I found so many animals in the zoo which included fox , horse and dog\"\n",
    "pattern13=\"fox|horse|dog\"\n",
    "var2=re.findall(pattern13,new13)\n",
    "print(var2)"
   ]
  },
  {
   "cell_type": "markdown",
   "id": "656c7756",
   "metadata": {},
   "source": [
    "Question 16- Write a Python program to search a literals string in a string and also find the location within the original string where the pattern occurs"
   ]
  },
  {
   "cell_type": "code",
   "execution_count": 17,
   "id": "8a9fc2b3",
   "metadata": {},
   "outputs": [
    {
     "name": "stdout",
     "output_type": "stream",
     "text": [
      "<regex.Match object; span=(50, 53), match='fox'>\n"
     ]
    }
   ],
   "source": [
    "new14=\"I found so many animals in the zoo which included fox , horse and dog\"\n",
    "pattern14=\"fox|horse|dog\"\n",
    "var3=re.search(pattern14,new14)\n",
    "print(var3)"
   ]
  },
  {
   "cell_type": "markdown",
   "id": "0f175510",
   "metadata": {},
   "source": [
    "Question 17- Write a Python program to find the substrings within a string."
   ]
  },
  {
   "cell_type": "code",
   "execution_count": 18,
   "id": "e5fbd13a",
   "metadata": {},
   "outputs": [
    {
     "name": "stdout",
     "output_type": "stream",
     "text": [
      "['exercises', 'exercises', 'exercises', 'exercises']\n"
     ]
    }
   ],
   "source": [
    "new15=[\"Math exercises, chemistry exercises, physics exercises, biology exercises\"]\n",
    "for pattern15 in new15:\n",
    "    var4=re.findall(\"exercises\",pattern15)\n",
    "    print(var4)\n",
    "    "
   ]
  },
  {
   "cell_type": "markdown",
   "id": "4a246837",
   "metadata": {},
   "source": [
    "Question 18- Write a Python program to find the occurrence and position of the substrings within a string."
   ]
  },
  {
   "cell_type": "code",
   "execution_count": 19,
   "id": "fa350d1b",
   "metadata": {},
   "outputs": [
    {
     "name": "stdout",
     "output_type": "stream",
     "text": [
      "<regex.Match object; span=(5, 14), match='exercises'>\n",
      "<regex.Match object; span=(10, 19), match='exercises'>\n",
      "<regex.Match object; span=(8, 17), match='exercises'>\n",
      "<regex.Match object; span=(8, 17), match='exercises'>\n"
     ]
    }
   ],
   "source": [
    "new16=[\"Math exercises\", \"chemistry exercises\", \"physics exercises\", \"biology exercises\"]\n",
    "for pattern16 in new16:\n",
    "    var5=re.search(\"exercises\",pattern16)\n",
    "    print(var5)\n",
    "    "
   ]
  },
  {
   "cell_type": "markdown",
   "id": "5983cdb9",
   "metadata": {},
   "source": [
    "Question 19- Write a Python program to convert a date of yyyy-mm-dd format to dd-mm-yyyy format."
   ]
  },
  {
   "cell_type": "code",
   "execution_count": 33,
   "id": "927add0d",
   "metadata": {},
   "outputs": [
    {
     "name": "stdout",
     "output_type": "stream",
     "text": [
      "Enter the DATE 1998-01-18\n",
      "18-01-1998\n"
     ]
    }
   ],
   "source": [
    "new17=input(\"Enter the DATE \")\n",
    "pattern17=\"(\\d{4})[-](\\d{2})[-](\\d{2})\"\n",
    "var6=re.sub(pattern17,'\\\\3-\\\\2-\\\\1',new17)\n",
    "print(var6)"
   ]
  },
  {
   "cell_type": "markdown",
   "id": "c0f6e1dc",
   "metadata": {},
   "source": [
    "Question 20- Write a Python program to find all words starting with 'a' or 'e' in a given string."
   ]
  },
  {
   "cell_type": "code",
   "execution_count": 21,
   "id": "23bf3d51",
   "metadata": {},
   "outputs": [
    {
     "name": "stdout",
     "output_type": "stream",
     "text": [
      "['elephant']\n"
     ]
    }
   ],
   "source": [
    "new18=\"elephant,giraffe,apple\"\n",
    "pattern18=\"^[ae]\\w+\"\n",
    "var7=re.findall(pattern18,new18)\n",
    "print(var7)"
   ]
  },
  {
   "cell_type": "markdown",
   "id": "0f1ece44",
   "metadata": {},
   "source": [
    "Question 21- Write a Python program to separate and print the numbers and their position of a given string."
   ]
  },
  {
   "cell_type": "code",
   "execution_count": 36,
   "id": "b0613674",
   "metadata": {},
   "outputs": [
    {
     "name": "stdout",
     "output_type": "stream",
     "text": [
      "Enter the string whole 10 20 30 40\n",
      "<regex.Match object; span=(6, 8), match='10'>\n",
      "<regex.Match object; span=(9, 11), match='20'>\n",
      "<regex.Match object; span=(12, 14), match='30'>\n",
      "<regex.Match object; span=(15, 17), match='40'>\n"
     ]
    }
   ],
   "source": [
    "new19=input(\"Enter the string \")\n",
    "pattern19=\"\\d+\"\n",
    "output=re.finditer(pattern19,new19)\n",
    "for i in output:\n",
    "    print(i)\n",
    "   \n"
   ]
  },
  {
   "cell_type": "markdown",
   "id": "93de6fec",
   "metadata": {},
   "source": [
    "Question 22- Write a regular expression in python program to extract maximum numeric value from a string"
   ]
  },
  {
   "cell_type": "code",
   "execution_count": 40,
   "id": "9bec705f",
   "metadata": {},
   "outputs": [
    {
     "name": "stdout",
     "output_type": "stream",
     "text": [
      "Enter the string whole 10 20 30 40\n",
      "40\n"
     ]
    }
   ],
   "source": [
    "new20=input(\"Enter the string \")\n",
    "pattern20=\"\\d+\"\n",
    "output20=re.findall(pattern20,new20)\n",
    "print(max(output20))"
   ]
  },
  {
   "cell_type": "markdown",
   "id": "e8917eab",
   "metadata": {},
   "source": [
    "Question 23- Write a Regex in Python to put spaces between words starting with capital letters"
   ]
  },
  {
   "cell_type": "code",
   "execution_count": 42,
   "id": "92c74cec",
   "metadata": {},
   "outputs": [
    {
     "name": "stdout",
     "output_type": "stream",
     "text": [
      "My Name Is Pulkit\n"
     ]
    }
   ],
   "source": [
    "new21=\"MyNameIsPulkit\"\n",
    "pattern21=\"[A-Z][a-z]*\"\n",
    "output21=re.findall(pattern21,new21)\n",
    "print(\" \".join(output21))"
   ]
  },
  {
   "cell_type": "markdown",
   "id": "23007528",
   "metadata": {},
   "source": [
    "Question 24- Python regex to find sequences of one upper case letter followed by lower case letters"
   ]
  },
  {
   "cell_type": "code",
   "execution_count": 48,
   "id": "f6510763",
   "metadata": {},
   "outputs": [
    {
     "name": "stdout",
     "output_type": "stream",
     "text": [
      "enter any stringMy Name Is Pulkit\n",
      "Match Found\n"
     ]
    }
   ],
   "source": [
    "new22=input(\"enter any string\")\n",
    "pattern22=\"[A-Z]+[a-z]+\"\n",
    "if (re.findall(pattern22,new22)):\n",
    "    print(\"Match Found\")\n",
    "else:\n",
    "    print(\"Match not found\")"
   ]
  },
  {
   "cell_type": "markdown",
   "id": "04183a5b",
   "metadata": {},
   "source": [
    "Question 25- Write a Python program to remove duplicate words from Sentence using Regular Expression"
   ]
  },
  {
   "cell_type": "markdown",
   "id": "d497a909",
   "metadata": {},
   "source": [
    "Question 26-  Write a python program using RegEx to accept string ending with alphanumeric character."
   ]
  },
  {
   "cell_type": "code",
   "execution_count": 50,
   "id": "dd5aa69c",
   "metadata": {},
   "outputs": [
    {
     "name": "stdout",
     "output_type": "stream",
     "text": [
      "enter any stringLDJKLAWIE&&&\n",
      "Rejected\n"
     ]
    }
   ],
   "source": [
    "new23=input(\"enter any string\")\n",
    "pattern23=\"[A-Za-z0-9]$\"\n",
    "if (re.findall(pattern23,new23)):\n",
    "    print(\"Accepted\")\n",
    "else:\n",
    "    print(\"Rejected\")"
   ]
  },
  {
   "cell_type": "markdown",
   "id": "d816176c",
   "metadata": {},
   "source": [
    "Question 27-Write a python program using RegEx to extract the hashtags."
   ]
  },
  {
   "cell_type": "code",
   "execution_count": 51,
   "id": "6392c63a",
   "metadata": {},
   "outputs": [
    {
     "name": "stdout",
     "output_type": "stream",
     "text": [
      "enter any stringAELFHWUI #KAEJROQWEJ LJFOIAW\n",
      "['#KAEJROQWEJ']\n"
     ]
    }
   ],
   "source": [
    "new24=input(\"enter any string\")\n",
    "pattern24=\"#\\S+\"\n",
    "output24=re.findall(pattern24,new24)\n",
    "print(output24)"
   ]
  },
  {
   "cell_type": "markdown",
   "id": "0d5876ce",
   "metadata": {},
   "source": [
    "Question 28- Write a python program using RegEx to remove <U+..> like symbols"
   ]
  },
  {
   "cell_type": "code",
   "execution_count": 54,
   "id": "c8832f00",
   "metadata": {},
   "outputs": [
    {
     "name": "stdout",
     "output_type": "stream",
     "text": [
      "enter any string\"@Jags123456 Bharat band on 28??<ed><U+00A0><U+00BD><ed><U+00B8><U+0082>Those who  are protesting #demonetization  are all different party leaders\"\n",
      "\"@Jags123456 Bharat band on 28??<ed><ed>Those who  are protesting #demonetization  are all different party leaders\"\n"
     ]
    }
   ],
   "source": [
    "new25=input(\"enter any string\")\n",
    "pattern25=\"<U\\+[A-Z0-9]{4}>\"\n",
    "output25=re.sub(pattern25,'',new25)\n",
    "print(output25)"
   ]
  },
  {
   "cell_type": "markdown",
   "id": "9901abdc",
   "metadata": {},
   "source": [
    "Question 29- Write a python program to extract dates from the text stored in the text file.\n"
   ]
  },
  {
   "cell_type": "code",
   "execution_count": 56,
   "id": "af98321d",
   "metadata": {},
   "outputs": [
    {
     "name": "stdout",
     "output_type": "stream",
     "text": [
      "['12-09-1992', '15-12-1999']\n"
     ]
    }
   ],
   "source": [
    "with open(\"myfile.txt\") as file1:\n",
    "    pattern26=\"\\d{2}[-]\\d{2}[-]\\d{4}\"\n",
    "    for y in file1:\n",
    "        output26=re.findall(pattern26,y)\n",
    "        print(output26)\n",
    "        "
   ]
  },
  {
   "cell_type": "markdown",
   "id": "0ad45b82",
   "metadata": {},
   "source": [
    "Question 30- Write a Python program to replace all occurrences of a space, comma, or dot with a colon."
   ]
  },
  {
   "cell_type": "code",
   "execution_count": 57,
   "id": "58b99218",
   "metadata": {},
   "outputs": [
    {
     "name": "stdout",
     "output_type": "stream",
     "text": [
      "enter any stringPython Exercises, PHP exercises.\n",
      "Python:Exercises::PHP:exercises:\n"
     ]
    }
   ],
   "source": [
    "new27=input(\"enter any string\")\n",
    "pattern27=\"[ ,.]\"\n",
    "output27=re.sub(pattern27,':',new27)\n",
    "print(output27)"
   ]
  },
  {
   "cell_type": "code",
   "execution_count": null,
   "id": "e4231c1c",
   "metadata": {},
   "outputs": [],
   "source": []
  }
 ],
 "metadata": {
  "kernelspec": {
   "display_name": "Python 3 (ipykernel)",
   "language": "python",
   "name": "python3"
  },
  "language_info": {
   "codemirror_mode": {
    "name": "ipython",
    "version": 3
   },
   "file_extension": ".py",
   "mimetype": "text/x-python",
   "name": "python",
   "nbconvert_exporter": "python",
   "pygments_lexer": "ipython3",
   "version": "3.9.13"
  }
 },
 "nbformat": 4,
 "nbformat_minor": 5
}
